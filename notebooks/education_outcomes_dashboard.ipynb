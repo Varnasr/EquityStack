{
 "cells": [
  {
   "cell_type": "markdown",
   "id": "62d302fa",
   "metadata": {},
   "source": [
    "# Education Outcomes Comparison Dashboard\n",
    "\n",
    "Summarise completion, dropout, or literacy rates by gender and geography.\n",
    "\n",
    "**Libraries:** pandas, seaborn, matplotlib"
   ]
  },
  {
   "cell_type": "code",
   "execution_count": null,
   "id": "9f07b31d",
   "metadata": {},
   "outputs": [],
   "source": [
    "# Step 1: Load education dataset\n",
    "\n",
    "# TODO: Insert your code here"
   ]
  },
  {
   "cell_type": "code",
   "execution_count": null,
   "id": "7d6392cf",
   "metadata": {},
   "outputs": [],
   "source": [
    "# Step 2: Create group summaries\n",
    "\n",
    "# TODO: Insert your code here"
   ]
  },
  {
   "cell_type": "code",
   "execution_count": null,
   "id": "eecae806",
   "metadata": {},
   "outputs": [],
   "source": [
    "# Step 3: Visualise comparisons by subgroup\n",
    "\n",
    "# TODO: Insert your code here"
   ]
  }
 ],
 "metadata": {},
 "nbformat": 4,
 "nbformat_minor": 5
}
