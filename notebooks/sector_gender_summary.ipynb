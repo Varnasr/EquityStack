{
 "cells": [
  {
   "cell_type": "markdown",
   "id": "76ee4851",
   "metadata": {},
   "source": [
    "# Gender-Disaggregated Summary Report\n",
    "\n",
    "This notebook shows how to summarise key indicators split by gender using a small sample dataset."
   ]
  },
  {
   "cell_type": "code",
   "execution_count": null,
   "id": "2b3a60aa",
   "metadata": {},
   "outputs": [],
   "source": [
    "import pandas as pd\n",
    "import seaborn as sns\n",
    "import matplotlib.pyplot as plt"
   ]
  },
  {
   "cell_type": "code",
   "execution_count": null,
   "id": "b8ef4953",
   "metadata": {},
   "outputs": [],
   "source": [
    "df = pd.read_csv('../sample_data/gender_sample.csv')\n",
    "df.head()"
   ]
  },
  {
   "cell_type": "code",
   "execution_count": null,
   "id": "1446ad4b",
   "metadata": {},
   "outputs": [],
   "source": [
    "grouped = df.groupby('gender').agg({'education_years': 'mean', 'earnings': 'mean'})\n",
    "grouped"
   ]
  },
  {
   "cell_type": "code",
   "execution_count": null,
   "id": "92076a5d",
   "metadata": {},
   "outputs": [],
   "source": [
    "sns.barplot(x=grouped.index, y=grouped['education_years'])\n",
    "plt.title('Average Years of Education by Gender')\n",
    "plt.show()"
   ]
  },
  {
   "cell_type": "code",
   "execution_count": null,
   "id": "98a85a33",
   "metadata": {},
   "outputs": [],
   "source": [
    "sns.barplot(x=grouped.index, y=grouped['earnings'])\n",
    "plt.title('Average Earnings by Gender')\n",
    "plt.show()"
   ]
  }
 ],
 "metadata": {},
 "nbformat": 4,
 "nbformat_minor": 5
}
