{
 "cells": [
  {
   "cell_type": "markdown",
   "id": "2ea44635",
   "metadata": {},
   "source": [
    "# WEE Time Use Analysis\n",
    "\n",
    "This notebook uses a small sample dataset to visualise time spent on care, paid work, and leisure by gender."
   ]
  },
  {
   "cell_type": "code",
   "execution_count": null,
   "id": "8a8fc29b",
   "metadata": {},
   "outputs": [],
   "source": [
    "import pandas as pd\n",
    "import seaborn as sns\n",
    "import matplotlib.pyplot as plt"
   ]
  },
  {
   "cell_type": "code",
   "execution_count": null,
   "id": "75b2e45e",
   "metadata": {},
   "outputs": [],
   "source": [
    "df = pd.read_csv('../sample_data/time_use_sample.csv')\n",
    "df.head()"
   ]
  },
  {
   "cell_type": "code",
   "execution_count": null,
   "id": "6a709687",
   "metadata": {},
   "outputs": [],
   "source": [
    "df_long = df.melt(id_vars='gender', value_vars=['care_work_hours', 'paid_work_hours', 'leisure_hours'], var_name='activity', value_name='hours')"
   ]
  },
  {
   "cell_type": "code",
   "execution_count": null,
   "id": "6e689572",
   "metadata": {},
   "outputs": [],
   "source": [
    "sns.barplot(data=df_long, x='activity', y='hours', hue='gender')\n",
    "plt.title('Average Time Use by Activity and Gender')\n",
    "plt.show()"
   ]
  }
 ],
 "metadata": {},
 "nbformat": 4,
 "nbformat_minor": 5
}
